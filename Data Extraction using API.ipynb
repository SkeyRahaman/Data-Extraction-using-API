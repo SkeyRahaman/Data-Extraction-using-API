{
 "cells": [
  {
   "cell_type": "markdown",
   "metadata": {},
   "source": [
    "## Data Extraction using API"
   ]
  },
  {
   "cell_type": "markdown",
   "metadata": {},
   "source": [
    "We will be importing 3 libraries as:<br>\n",
    "<li>pandas for dataframe creation.\n",
    "<li>requests for geting the web page details and \n",
    "<li>json for the operations for json formats "
   ]
  },
  {
   "cell_type": "code",
   "execution_count": 1,
   "metadata": {},
   "outputs": [],
   "source": [
    "# Import necessary libraries\n",
    "import pandas as pd\n",
    "import requests\n",
    "import json"
   ]
  },
  {
   "cell_type": "markdown",
   "metadata": {},
   "source": [
    "Now we are provided with the url of the all the pages in the API hense we will specify the starting url."
   ]
  },
  {
   "cell_type": "code",
   "execution_count": 2,
   "metadata": {},
   "outputs": [],
   "source": [
    "url = \"https://api.themoviedb.org/3/movie/top_rated?api_key=8265bd1679663a7ea12ac168da84d2e8&language=en-US&page=1\""
   ]
  },
  {
   "cell_type": "markdown",
   "metadata": {},
   "source": [
    "Next one is a bit complex.<br>\n",
    "First for loop is for the extraction from 10 separate pages.<br>\n",
    "So the second for loop is to loop through all the movie to get our required data.<br>\n",
    "various varuiabels are used as:<br>\n",
    "<li>list_for_dataframe = Dataframe 2D array.\n",
    "<li>present_url = url for the loop.\n",
    "<li>required = list for the rows in a dataframe"
   ]
  },
  {
   "cell_type": "code",
   "execution_count": 3,
   "metadata": {},
   "outputs": [],
   "source": [
    "list_for_dataframe = []\n",
    "for i in range(1,11):\n",
    "    present_url = url + str(i)\n",
    "    JSONContent = requests.get(url).json()\n",
    "    for details in JSONContent['results']:\n",
    "        required = []\n",
    "        required.append(details[\"id\"])\n",
    "        required.append(details[\"title\"])\n",
    "        required.append(details[\"overview\"])\n",
    "        required.append(details[\"release_date\"])\n",
    "        required.append(details[\"popularity\"])\n",
    "        required.append(details[\"vote_average\"])\n",
    "        list_for_dataframe.append(required)"
   ]
  },
  {
   "cell_type": "markdown",
   "metadata": {},
   "source": [
    "So now we will be declearing the names of the columns of the dataframe."
   ]
  },
  {
   "cell_type": "code",
   "execution_count": 4,
   "metadata": {},
   "outputs": [],
   "source": [
    "index = [\"ID\",\"Title\",\"Overview\",\"Release_Date\",\"Popularity\",\"Average_Vote\"]"
   ]
  },
  {
   "cell_type": "markdown",
   "metadata": {},
   "source": [
    "Now lets create the dataframe"
   ]
  },
  {
   "cell_type": "code",
   "execution_count": 5,
   "metadata": {},
   "outputs": [
    {
     "data": {
      "text/html": [
       "<div>\n",
       "<style scoped>\n",
       "    .dataframe tbody tr th:only-of-type {\n",
       "        vertical-align: middle;\n",
       "    }\n",
       "\n",
       "    .dataframe tbody tr th {\n",
       "        vertical-align: top;\n",
       "    }\n",
       "\n",
       "    .dataframe thead th {\n",
       "        text-align: right;\n",
       "    }\n",
       "</style>\n",
       "<table border=\"1\" class=\"dataframe\">\n",
       "  <thead>\n",
       "    <tr style=\"text-align: right;\">\n",
       "      <th></th>\n",
       "      <th>ID</th>\n",
       "      <th>Title</th>\n",
       "      <th>Overview</th>\n",
       "      <th>Release_Date</th>\n",
       "      <th>Popularity</th>\n",
       "      <th>Average_Vote</th>\n",
       "    </tr>\n",
       "  </thead>\n",
       "  <tbody>\n",
       "    <tr>\n",
       "      <th>0</th>\n",
       "      <td>19404</td>\n",
       "      <td>Dilwale Dulhania Le Jayenge</td>\n",
       "      <td>Raj is a rich, carefree, happy-go-lucky second...</td>\n",
       "      <td>1995-10-20</td>\n",
       "      <td>17.671</td>\n",
       "      <td>8.9</td>\n",
       "    </tr>\n",
       "    <tr>\n",
       "      <th>1</th>\n",
       "      <td>278</td>\n",
       "      <td>The Shawshank Redemption</td>\n",
       "      <td>Framed in the 1940s for the double murder of h...</td>\n",
       "      <td>1994-09-23</td>\n",
       "      <td>34.026</td>\n",
       "      <td>8.7</td>\n",
       "    </tr>\n",
       "    <tr>\n",
       "      <th>2</th>\n",
       "      <td>496243</td>\n",
       "      <td>Parasite</td>\n",
       "      <td>All unemployed, Ki-taek's family takes peculia...</td>\n",
       "      <td>2019-10-11</td>\n",
       "      <td>44.232</td>\n",
       "      <td>8.7</td>\n",
       "    </tr>\n",
       "    <tr>\n",
       "      <th>3</th>\n",
       "      <td>238</td>\n",
       "      <td>The Godfather</td>\n",
       "      <td>Spanning the years 1945 to 1955, a chronicle o...</td>\n",
       "      <td>1972-03-15</td>\n",
       "      <td>30.291</td>\n",
       "      <td>8.6</td>\n",
       "    </tr>\n",
       "    <tr>\n",
       "      <th>4</th>\n",
       "      <td>372058</td>\n",
       "      <td>Your Name.</td>\n",
       "      <td>High schoolers Mitsuha and Taki are complete s...</td>\n",
       "      <td>2017-04-07</td>\n",
       "      <td>27.341</td>\n",
       "      <td>8.6</td>\n",
       "    </tr>\n",
       "  </tbody>\n",
       "</table>\n",
       "</div>"
      ],
      "text/plain": [
       "       ID                        Title  \\\n",
       "0   19404  Dilwale Dulhania Le Jayenge   \n",
       "1     278     The Shawshank Redemption   \n",
       "2  496243                     Parasite   \n",
       "3     238                The Godfather   \n",
       "4  372058                   Your Name.   \n",
       "\n",
       "                                            Overview Release_Date  Popularity  \\\n",
       "0  Raj is a rich, carefree, happy-go-lucky second...   1995-10-20      17.671   \n",
       "1  Framed in the 1940s for the double murder of h...   1994-09-23      34.026   \n",
       "2  All unemployed, Ki-taek's family takes peculia...   2019-10-11      44.232   \n",
       "3  Spanning the years 1945 to 1955, a chronicle o...   1972-03-15      30.291   \n",
       "4  High schoolers Mitsuha and Taki are complete s...   2017-04-07      27.341   \n",
       "\n",
       "   Average_Vote  \n",
       "0           8.9  \n",
       "1           8.7  \n",
       "2           8.7  \n",
       "3           8.6  \n",
       "4           8.6  "
      ]
     },
     "execution_count": 5,
     "metadata": {},
     "output_type": "execute_result"
    }
   ],
   "source": [
    "data = pd.DataFrame(list_for_dataframe,columns=index)\n",
    "data.head()"
   ]
  },
  {
   "cell_type": "code",
   "execution_count": 6,
   "metadata": {},
   "outputs": [],
   "source": [
    "data.columns=index"
   ]
  },
  {
   "cell_type": "code",
   "execution_count": 7,
   "metadata": {},
   "outputs": [
    {
     "data": {
      "text/html": [
       "<div>\n",
       "<style scoped>\n",
       "    .dataframe tbody tr th:only-of-type {\n",
       "        vertical-align: middle;\n",
       "    }\n",
       "\n",
       "    .dataframe tbody tr th {\n",
       "        vertical-align: top;\n",
       "    }\n",
       "\n",
       "    .dataframe thead th {\n",
       "        text-align: right;\n",
       "    }\n",
       "</style>\n",
       "<table border=\"1\" class=\"dataframe\">\n",
       "  <thead>\n",
       "    <tr style=\"text-align: right;\">\n",
       "      <th></th>\n",
       "      <th>ID</th>\n",
       "      <th>Title</th>\n",
       "      <th>Overview</th>\n",
       "      <th>Release_Date</th>\n",
       "      <th>Popularity</th>\n",
       "      <th>Average_Vote</th>\n",
       "    </tr>\n",
       "  </thead>\n",
       "  <tbody>\n",
       "    <tr>\n",
       "      <th>0</th>\n",
       "      <td>19404</td>\n",
       "      <td>Dilwale Dulhania Le Jayenge</td>\n",
       "      <td>Raj is a rich, carefree, happy-go-lucky second...</td>\n",
       "      <td>1995-10-20</td>\n",
       "      <td>17.671</td>\n",
       "      <td>8.9</td>\n",
       "    </tr>\n",
       "    <tr>\n",
       "      <th>1</th>\n",
       "      <td>278</td>\n",
       "      <td>The Shawshank Redemption</td>\n",
       "      <td>Framed in the 1940s for the double murder of h...</td>\n",
       "      <td>1994-09-23</td>\n",
       "      <td>34.026</td>\n",
       "      <td>8.7</td>\n",
       "    </tr>\n",
       "    <tr>\n",
       "      <th>2</th>\n",
       "      <td>496243</td>\n",
       "      <td>Parasite</td>\n",
       "      <td>All unemployed, Ki-taek's family takes peculia...</td>\n",
       "      <td>2019-10-11</td>\n",
       "      <td>44.232</td>\n",
       "      <td>8.7</td>\n",
       "    </tr>\n",
       "    <tr>\n",
       "      <th>3</th>\n",
       "      <td>238</td>\n",
       "      <td>The Godfather</td>\n",
       "      <td>Spanning the years 1945 to 1955, a chronicle o...</td>\n",
       "      <td>1972-03-15</td>\n",
       "      <td>30.291</td>\n",
       "      <td>8.6</td>\n",
       "    </tr>\n",
       "    <tr>\n",
       "      <th>4</th>\n",
       "      <td>372058</td>\n",
       "      <td>Your Name.</td>\n",
       "      <td>High schoolers Mitsuha and Taki are complete s...</td>\n",
       "      <td>2017-04-07</td>\n",
       "      <td>27.341</td>\n",
       "      <td>8.6</td>\n",
       "    </tr>\n",
       "  </tbody>\n",
       "</table>\n",
       "</div>"
      ],
      "text/plain": [
       "       ID                        Title  \\\n",
       "0   19404  Dilwale Dulhania Le Jayenge   \n",
       "1     278     The Shawshank Redemption   \n",
       "2  496243                     Parasite   \n",
       "3     238                The Godfather   \n",
       "4  372058                   Your Name.   \n",
       "\n",
       "                                            Overview Release_Date  Popularity  \\\n",
       "0  Raj is a rich, carefree, happy-go-lucky second...   1995-10-20      17.671   \n",
       "1  Framed in the 1940s for the double murder of h...   1994-09-23      34.026   \n",
       "2  All unemployed, Ki-taek's family takes peculia...   2019-10-11      44.232   \n",
       "3  Spanning the years 1945 to 1955, a chronicle o...   1972-03-15      30.291   \n",
       "4  High schoolers Mitsuha and Taki are complete s...   2017-04-07      27.341   \n",
       "\n",
       "   Average_Vote  \n",
       "0           8.9  \n",
       "1           8.7  \n",
       "2           8.7  \n",
       "3           8.6  \n",
       "4           8.6  "
      ]
     },
     "execution_count": 7,
     "metadata": {},
     "output_type": "execute_result"
    }
   ],
   "source": [
    "data.head()"
   ]
  },
  {
   "cell_type": "code",
   "execution_count": null,
   "metadata": {},
   "outputs": [],
   "source": []
  },
  {
   "cell_type": "code",
   "execution_count": 8,
   "metadata": {},
   "outputs": [],
   "source": [
    "\n",
    "def DataFrame_to_csv():     #csv file will be saved in the same place as of the code.\n",
    "    name = input(\"Enter the name that you wantto give to the csv file. If no input is given the csv file will take a name as \\\"movie_details.csv\\\" \")\n",
    "    if(name==\"\"):\n",
    "        print(\"Your File Name is :-\",\"movie_details.csv\")\n",
    "        data.to_csv(\"top_250_IMDb_movies.csv\")\n",
    "    elif(name[-4:] == \".csv\"):\n",
    "        print(\"Your File Name is :-\",name)\n",
    "        data.to_csv(name)\n",
    "    else:\n",
    "        print(\"Your File Name is :-\",(name+\".csv\"))\n",
    "        data.to_csv(name+\".csv\")"
   ]
  },
  {
   "cell_type": "code",
   "execution_count": 9,
   "metadata": {},
   "outputs": [
    {
     "name": "stdout",
     "output_type": "stream",
     "text": [
      "Enter the name that you wantto give to the csv file. If no input is given the csv file will take a name as \"movie_details.csv\" \n",
      "Your File Name is :- movie_details.csv\n"
     ]
    }
   ],
   "source": [
    "DataFrame_to_csv()"
   ]
  },
  {
   "cell_type": "code",
   "execution_count": 10,
   "metadata": {},
   "outputs": [
    {
     "name": "stdout",
     "output_type": "stream",
     "text": [
      "Enter the name that you wantto give to the csv file. If no input is given the csv file will take a name as \"movie_details.csv\" movie_name\n",
      "Your File Name is :- movie_name.csv\n"
     ]
    }
   ],
   "source": [
    "DataFrame_to_csv()"
   ]
  },
  {
   "cell_type": "code",
   "execution_count": 11,
   "metadata": {},
   "outputs": [
    {
     "name": "stdout",
     "output_type": "stream",
     "text": [
      "Enter the name that you wantto give to the csv file. If no input is given the csv file will take a name as \"movie_details.csv\" This csv file is Created by the this program itself.csv\n",
      "Your File Name is :- This csv file is Created by the this program itself.csv\n"
     ]
    }
   ],
   "source": [
    "DataFrame_to_csv()"
   ]
  },
  {
   "cell_type": "code",
   "execution_count": null,
   "metadata": {},
   "outputs": [],
   "source": []
  },
  {
   "cell_type": "code",
   "execution_count": null,
   "metadata": {},
   "outputs": [],
   "source": []
  },
  {
   "cell_type": "code",
   "execution_count": null,
   "metadata": {},
   "outputs": [],
   "source": []
  },
  {
   "cell_type": "code",
   "execution_count": 12,
   "metadata": {},
   "outputs": [],
   "source": [
    "from datetime import datetime"
   ]
  },
  {
   "cell_type": "code",
   "execution_count": 13,
   "metadata": {},
   "outputs": [
    {
     "name": "stdout",
     "output_type": "stream",
     "text": [
      "2019-08-25 00:23:48.529793\n"
     ]
    }
   ],
   "source": [
    "print(datetime.now())"
   ]
  },
  {
   "cell_type": "markdown",
   "metadata": {},
   "source": [
    "# Created by: Md Shakib Mondal<br>\n",
    "## Email : - sakibmondal7@gmail.com"
   ]
  },
  {
   "cell_type": "code",
   "execution_count": null,
   "metadata": {},
   "outputs": [],
   "source": []
  }
 ],
 "metadata": {
  "kernelspec": {
   "display_name": "Python 3",
   "language": "python",
   "name": "python3"
  },
  "language_info": {
   "codemirror_mode": {
    "name": "ipython",
    "version": 3
   },
   "file_extension": ".py",
   "mimetype": "text/x-python",
   "name": "python",
   "nbconvert_exporter": "python",
   "pygments_lexer": "ipython3",
   "version": "3.7.1"
  }
 },
 "nbformat": 4,
 "nbformat_minor": 2
}
